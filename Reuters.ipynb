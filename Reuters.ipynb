{
  "nbformat": 4,
  "nbformat_minor": 0,
  "metadata": {
    "colab": {
      "name": "Reuters.ipynb",
      "provenance": [],
      "authorship_tag": "ABX9TyP49iBVbPnuYAzg6uHNvdbE",
      "include_colab_link": true
    },
    "kernelspec": {
      "name": "python3",
      "display_name": "Python 3"
    }
  },
  "cells": [
    {
      "cell_type": "markdown",
      "metadata": {
        "id": "view-in-github",
        "colab_type": "text"
      },
      "source": [
        "<a href=\"https://colab.research.google.com/github/syukrighazali95/Keras_Tutorial/blob/master/Reuters.ipynb\" target=\"_parent\"><img src=\"https://colab.research.google.com/assets/colab-badge.svg\" alt=\"Open In Colab\"/></a>"
      ]
    },
    {
      "cell_type": "code",
      "metadata": {
        "id": "0m-V98QlPLzt",
        "colab_type": "code",
        "colab": {
          "base_uri": "https://localhost:8080/",
          "height": 35
        },
        "outputId": "fe761852-4c34-4774-ae06-152b67444a93"
      },
      "source": [
        "from keras.datasets import reuters"
      ],
      "execution_count": 1,
      "outputs": [
        {
          "output_type": "stream",
          "text": [
            "Using TensorFlow backend.\n"
          ],
          "name": "stderr"
        }
      ]
    },
    {
      "cell_type": "code",
      "metadata": {
        "id": "JVszXdcSPe1x",
        "colab_type": "code",
        "colab": {
          "base_uri": "https://localhost:8080/",
          "height": 52
        },
        "outputId": "9b648f36-6479-4532-b00b-8826c4f7c287"
      },
      "source": [
        "(train_data, train_labels), (test_data, test_labels) = reuters.load_data(num_words=10000)"
      ],
      "execution_count": 2,
      "outputs": [
        {
          "output_type": "stream",
          "text": [
            "Downloading data from https://s3.amazonaws.com/text-datasets/reuters.npz\n",
            "2113536/2110848 [==============================] - 1s 0us/step\n"
          ],
          "name": "stdout"
        }
      ]
    },
    {
      "cell_type": "code",
      "metadata": {
        "id": "F74jTPkmPqSI",
        "colab_type": "code",
        "colab": {
          "base_uri": "https://localhost:8080/",
          "height": 35
        },
        "outputId": "3c68c3b9-c0ea-4351-d017-7ab00706560b"
      },
      "source": [
        "len(train_data)"
      ],
      "execution_count": 4,
      "outputs": [
        {
          "output_type": "execute_result",
          "data": {
            "text/plain": [
              "8982"
            ]
          },
          "metadata": {
            "tags": []
          },
          "execution_count": 4
        }
      ]
    },
    {
      "cell_type": "code",
      "metadata": {
        "id": "-50wd5fxPyZ4",
        "colab_type": "code",
        "colab": {
          "base_uri": "https://localhost:8080/",
          "height": 35
        },
        "outputId": "89ecd916-8707-466f-c398-03d0b5aef1b6"
      },
      "source": [
        "len(test_data)"
      ],
      "execution_count": 5,
      "outputs": [
        {
          "output_type": "execute_result",
          "data": {
            "text/plain": [
              "2246"
            ]
          },
          "metadata": {
            "tags": []
          },
          "execution_count": 5
        }
      ]
    },
    {
      "cell_type": "code",
      "metadata": {
        "id": "CWljrrU0P2jw",
        "colab_type": "code",
        "colab": {
          "base_uri": "https://localhost:8080/",
          "height": 35
        },
        "outputId": "a4620a03-b604-4aa5-a779-9bbcb01423b0"
      },
      "source": [
        "train_data.shape"
      ],
      "execution_count": 8,
      "outputs": [
        {
          "output_type": "execute_result",
          "data": {
            "text/plain": [
              "(8982,)"
            ]
          },
          "metadata": {
            "tags": []
          },
          "execution_count": 8
        }
      ]
    },
    {
      "cell_type": "code",
      "metadata": {
        "id": "yFVdqfmRRIxE",
        "colab_type": "code",
        "colab": {
          "base_uri": "https://localhost:8080/",
          "height": 52
        },
        "outputId": "c38ee509-a526-42e4-b678-74475c57df6f"
      },
      "source": [
        "word_index = reuters.get_word_index()\n",
        "reverse_word_index = dict([(value, key) for (key, value) in word_index.items()])\n",
        "decoded_newswire = ' '.join([reverse_word_index.get(i - 3, '?') for i in train_data[0]])"
      ],
      "execution_count": 9,
      "outputs": [
        {
          "output_type": "stream",
          "text": [
            "Downloading data from https://s3.amazonaws.com/text-datasets/reuters_word_index.json\n",
            "557056/550378 [==============================] - 0s 1us/step\n"
          ],
          "name": "stdout"
        }
      ]
    },
    {
      "cell_type": "code",
      "metadata": {
        "id": "E3adtAasRvkb",
        "colab_type": "code",
        "colab": {
          "base_uri": "https://localhost:8080/",
          "height": 35
        },
        "outputId": "41c08c1b-8057-44b9-bec9-cd44f4871c40"
      },
      "source": [
        "train_labels.shape"
      ],
      "execution_count": 14,
      "outputs": [
        {
          "output_type": "execute_result",
          "data": {
            "text/plain": [
              "(8982,)"
            ]
          },
          "metadata": {
            "tags": []
          },
          "execution_count": 14
        }
      ]
    },
    {
      "cell_type": "code",
      "metadata": {
        "id": "-McPNwRSR8-f",
        "colab_type": "code",
        "colab": {}
      },
      "source": [
        "import numpy as np\n",
        "\n",
        "def vectorize_sequences(sequences, dimension=10000):\n",
        "  results = np.zeros((len(sequences), dimension))\n",
        "  for i, sequence in enumerate(sequences):\n",
        "    results[i, sequence] = 1.\n",
        "  return results\n",
        "\n",
        "x_train = vectorize_sequences(train_data)\n",
        "x_test = vectorize_sequences(test_data)"
      ],
      "execution_count": 0,
      "outputs": []
    },
    {
      "cell_type": "code",
      "metadata": {
        "id": "V9aftW3SSvkR",
        "colab_type": "code",
        "colab": {}
      },
      "source": [
        "from keras import layers\n",
        "from keras import models\n",
        "\n",
        "model = models.Sequential()\n",
        "model.add(layers.Dense(64, activation='relu', input_shape=(10000,)))\n",
        "model.add(layers.Dense(64, activation='relu'))\n",
        "model.add(layers.Dense(46, activation='softmax'))"
      ],
      "execution_count": 0,
      "outputs": []
    },
    {
      "cell_type": "code",
      "metadata": {
        "id": "WWjUTCGOTaoB",
        "colab_type": "code",
        "colab": {}
      },
      "source": [
        "model.compile(optimizer='rmsprop',\n",
        "              loss='categorical_crossentropy',\n",
        "              metrics=['accuracy'])"
      ],
      "execution_count": 0,
      "outputs": []
    },
    {
      "cell_type": "code",
      "metadata": {
        "id": "GROYx8JBTs8v",
        "colab_type": "code",
        "colab": {}
      },
      "source": [
        "def to_one_hot(labels, dimension = 46):\n",
        "  results = np.zeros((len(labels), dimension))\n",
        "  for i, label in enumerate(labels):\n",
        "    results[i, label] = 1\n",
        "  return results\n",
        "\n",
        "one_hot_train_labels = to_one_hot(train_labels)\n",
        "one_hot_test_labels = to_one_hot(test_labels)\n"
      ],
      "execution_count": 0,
      "outputs": []
    },
    {
      "cell_type": "code",
      "metadata": {
        "id": "VZ5PWIxBUpgh",
        "colab_type": "code",
        "colab": {}
      },
      "source": [
        "x_val = x_train[:1000]\n",
        "partial_x_train = x_train[1000:]\n",
        "\n",
        "y_val = one_hot_train_labels[:1000]\n",
        "partial_y_train = one_hot_train_labels[1000:]"
      ],
      "execution_count": 0,
      "outputs": []
    },
    {
      "cell_type": "code",
      "metadata": {
        "id": "IRIq0HavU7Po",
        "colab_type": "code",
        "colab": {
          "base_uri": "https://localhost:8080/",
          "height": 766
        },
        "outputId": "701b218a-ab10-4b6f-b9ac-215e809e9d65"
      },
      "source": [
        "history = model.fit(partial_x_train,\n",
        "                    partial_y_train,\n",
        "                    epochs = 20,\n",
        "                    batch_size = 512,\n",
        "                    validation_data=(x_val, y_val))"
      ],
      "execution_count": 29,
      "outputs": [
        {
          "output_type": "stream",
          "text": [
            "Train on 7982 samples, validate on 1000 samples\n",
            "Epoch 1/20\n",
            "7982/7982 [==============================] - 2s 312us/step - loss: 2.6871 - accuracy: 0.5074 - val_loss: 1.7668 - val_accuracy: 0.6200\n",
            "Epoch 2/20\n",
            "7982/7982 [==============================] - 1s 102us/step - loss: 1.4534 - accuracy: 0.7018 - val_loss: 1.3083 - val_accuracy: 0.7060\n",
            "Epoch 3/20\n",
            "7982/7982 [==============================] - 1s 106us/step - loss: 1.0671 - accuracy: 0.7815 - val_loss: 1.1337 - val_accuracy: 0.7650\n",
            "Epoch 4/20\n",
            "7982/7982 [==============================] - 1s 106us/step - loss: 0.8290 - accuracy: 0.8312 - val_loss: 1.0044 - val_accuracy: 0.7990\n",
            "Epoch 5/20\n",
            "7982/7982 [==============================] - 1s 104us/step - loss: 0.6576 - accuracy: 0.8647 - val_loss: 0.9619 - val_accuracy: 0.8010\n",
            "Epoch 6/20\n",
            "7982/7982 [==============================] - 1s 103us/step - loss: 0.5200 - accuracy: 0.8938 - val_loss: 0.8890 - val_accuracy: 0.8220\n",
            "Epoch 7/20\n",
            "7982/7982 [==============================] - 1s 101us/step - loss: 0.4175 - accuracy: 0.9148 - val_loss: 0.8743 - val_accuracy: 0.8250\n",
            "Epoch 8/20\n",
            "7982/7982 [==============================] - 1s 102us/step - loss: 0.3385 - accuracy: 0.9296 - val_loss: 0.8855 - val_accuracy: 0.8220\n",
            "Epoch 9/20\n",
            "7982/7982 [==============================] - 1s 104us/step - loss: 0.2832 - accuracy: 0.9376 - val_loss: 0.8976 - val_accuracy: 0.8180\n",
            "Epoch 10/20\n",
            "7982/7982 [==============================] - 1s 107us/step - loss: 0.2352 - accuracy: 0.9475 - val_loss: 0.8918 - val_accuracy: 0.8260\n",
            "Epoch 11/20\n",
            "7982/7982 [==============================] - 1s 107us/step - loss: 0.2067 - accuracy: 0.9503 - val_loss: 0.9285 - val_accuracy: 0.8130\n",
            "Epoch 12/20\n",
            "7982/7982 [==============================] - 1s 107us/step - loss: 0.1788 - accuracy: 0.9530 - val_loss: 0.9016 - val_accuracy: 0.8220\n",
            "Epoch 13/20\n",
            "7982/7982 [==============================] - 1s 107us/step - loss: 0.1694 - accuracy: 0.9530 - val_loss: 0.9409 - val_accuracy: 0.8210\n",
            "Epoch 14/20\n",
            "7982/7982 [==============================] - 1s 108us/step - loss: 0.1467 - accuracy: 0.9543 - val_loss: 0.9548 - val_accuracy: 0.8210\n",
            "Epoch 15/20\n",
            "7982/7982 [==============================] - 1s 110us/step - loss: 0.1419 - accuracy: 0.9563 - val_loss: 0.9447 - val_accuracy: 0.8160\n",
            "Epoch 16/20\n",
            "7982/7982 [==============================] - 1s 107us/step - loss: 0.1311 - accuracy: 0.9557 - val_loss: 1.0419 - val_accuracy: 0.8010\n",
            "Epoch 17/20\n",
            "7982/7982 [==============================] - 1s 106us/step - loss: 0.1232 - accuracy: 0.9579 - val_loss: 0.9746 - val_accuracy: 0.8210\n",
            "Epoch 18/20\n",
            "7982/7982 [==============================] - 1s 108us/step - loss: 0.1232 - accuracy: 0.9565 - val_loss: 1.0296 - val_accuracy: 0.8090\n",
            "Epoch 19/20\n",
            "7982/7982 [==============================] - 1s 109us/step - loss: 0.1149 - accuracy: 0.9577 - val_loss: 1.0343 - val_accuracy: 0.8100\n",
            "Epoch 20/20\n",
            "7982/7982 [==============================] - 1s 108us/step - loss: 0.1123 - accuracy: 0.9583 - val_loss: 1.0187 - val_accuracy: 0.8120\n"
          ],
          "name": "stdout"
        }
      ]
    },
    {
      "cell_type": "code",
      "metadata": {
        "id": "nBcQ-1SbZusX",
        "colab_type": "code",
        "colab": {
          "base_uri": "https://localhost:8080/",
          "height": 35
        },
        "outputId": "706ecd0b-edfc-46a9-d3e3-4d5944d4eaca"
      },
      "source": [
        "history.history.keys()"
      ],
      "execution_count": 32,
      "outputs": [
        {
          "output_type": "execute_result",
          "data": {
            "text/plain": [
              "dict_keys(['val_loss', 'val_accuracy', 'loss', 'accuracy'])"
            ]
          },
          "metadata": {
            "tags": []
          },
          "execution_count": 32
        }
      ]
    },
    {
      "cell_type": "code",
      "metadata": {
        "id": "uN6V-8kOaCFE",
        "colab_type": "code",
        "colab": {
          "base_uri": "https://localhost:8080/",
          "height": 295
        },
        "outputId": "03622fc6-6a12-43f3-b6a1-fca4b3b12cdc"
      },
      "source": [
        "import matplotlib.pyplot as plt\n",
        "\n",
        "loss = history.history['loss']\n",
        "val_loss = history.history['val_loss']\n",
        "\n",
        "epochs = range(1, len(loss) + 1)\n",
        "\n",
        "plt.plot(epochs, loss, 'bo', label=\"Training Loss\")\n",
        "plt.plot(epochs, val_loss, 'b', label=\"Validation Loss\")\n",
        "plt.title(\"Training and Validation Loss\")\n",
        "plt.xlabel(\"Epochs\")\n",
        "plt.ylabel(\"Loss\")\n",
        "plt.legend()\n",
        "\n",
        "plt.show()"
      ],
      "execution_count": 33,
      "outputs": [
        {
          "output_type": "display_data",
          "data": {
            "image/png": "[encoded data removed]",
            "text/plain": [
              "<Figure size 432x288 with 1 Axes>"
            ]
          },
          "metadata": {
            "tags": [],
            "needs_background": "light"
          }
        }
      ]
    },
    {
      "cell_type": "code",
      "metadata": {
        "id": "ApD6vJhjauBu",
        "colab_type": "code",
        "colab": {
          "base_uri": "https://localhost:8080/",
          "height": 295
        },
        "outputId": "d444d7fd-2ab1-494d-85e0-6db8be2fffc4"
      },
      "source": [
        "plt.clf()\n",
        "\n",
        "acc = history.history['accuracy']\n",
        "val_acc = history.history['val_accuracy']\n",
        "\n",
        "plt.plot(epochs, acc, 'bo', label = \"Training Accuracy\")\n",
        "plt.plot(epochs, val_acc, 'b', label=\"Validation Accuracy\")\n",
        "plt.title('Training and validation accuracy')\n",
        "plt.xlabel('Epochs')\n",
        "plt.ylabel('Accuracy')\n",
        "plt.legend()\n",
        "\n",
        "plt.show()"
      ],
      "execution_count": 34,
      "outputs": [
        {
          "output_type": "display_data",
          "data": {
            "image/png": "[encoded data removed]",
            "text/plain": [
              "<Figure size 432x288 with 1 Axes>"
            ]
          },
          "metadata": {
            "tags": [],
            "needs_background": "light"
          }
        }
      ]
    },
    {
      "cell_type": "code",
      "metadata": {
        "id": "ccDnVVgobVoU",
        "colab_type": "code",
        "colab": {
          "base_uri": "https://localhost:8080/",
          "height": 392
        },
        "outputId": "98c4b050-4a32-4871-e179-f0f5f4011b39"
      },
      "source": [
        "model = models.Sequential()\n",
        "model.add(layers.Dense(64, activation='relu', input_shape=(10000,)))\n",
        "model.add(layers.Dense(64, activation='relu'))\n",
        "model.add(layers.Dense(46, activation='softmax'))\n",
        "\n",
        "model.compile(optimizer='rmsprop',\n",
        "              loss=\"categorical_crossentropy\",\n",
        "              metrics=['accuracy'])\n",
        "\n",
        "model.fit(partial_x_train,\n",
        "          partial_y_train,\n",
        "          epochs=9,\n",
        "          batch_size = 512,\n",
        "          validation_data = (x_val, y_val))\n",
        "\n",
        "results = model.evaluate(x_test, one_hot_test_labels)"
      ],
      "execution_count": 35,
      "outputs": [
        {
          "output_type": "stream",
          "text": [
            "Train on 7982 samples, validate on 1000 samples\n",
            "Epoch 1/9\n",
            "7982/7982 [==============================] - 1s 135us/step - loss: 2.6534 - accuracy: 0.5304 - val_loss: 1.7872 - val_accuracy: 0.6360\n",
            "Epoch 2/9\n",
            "7982/7982 [==============================] - 1s 110us/step - loss: 1.4471 - accuracy: 0.7012 - val_loss: 1.3268 - val_accuracy: 0.7110\n",
            "Epoch 3/9\n",
            "7982/7982 [==============================] - 1s 110us/step - loss: 1.0637 - accuracy: 0.7700 - val_loss: 1.1343 - val_accuracy: 0.7520\n",
            "Epoch 4/9\n",
            "7982/7982 [==============================] - 1s 111us/step - loss: 0.8387 - accuracy: 0.8161 - val_loss: 1.0569 - val_accuracy: 0.7530\n",
            "Epoch 5/9\n",
            "7982/7982 [==============================] - 1s 113us/step - loss: 0.6666 - accuracy: 0.8563 - val_loss: 0.9816 - val_accuracy: 0.7880\n",
            "Epoch 6/9\n",
            "7982/7982 [==============================] - 1s 111us/step - loss: 0.5334 - accuracy: 0.8905 - val_loss: 0.9639 - val_accuracy: 0.7870\n",
            "Epoch 7/9\n",
            "7982/7982 [==============================] - 1s 110us/step - loss: 0.4301 - accuracy: 0.9092 - val_loss: 0.9013 - val_accuracy: 0.8060\n",
            "Epoch 8/9\n",
            "7982/7982 [==============================] - 1s 109us/step - loss: 0.3521 - accuracy: 0.9248 - val_loss: 0.9120 - val_accuracy: 0.7930\n",
            "Epoch 9/9\n",
            "7982/7982 [==============================] - 1s 110us/step - loss: 0.2908 - accuracy: 0.9345 - val_loss: 0.8934 - val_accuracy: 0.8170\n",
            "2246/2246 [==============================] - 0s 220us/step\n"
          ],
          "name": "stdout"
        }
      ]
    },
    {
      "cell_type": "code",
      "metadata": {
        "id": "yEFTMqw0cVEM",
        "colab_type": "code",
        "colab": {
          "base_uri": "https://localhost:8080/",
          "height": 35
        },
        "outputId": "ab9e276d-5149-491f-9736-fb4a34ae87d0"
      },
      "source": [
        "results"
      ],
      "execution_count": 36,
      "outputs": [
        {
          "output_type": "execute_result",
          "data": {
            "text/plain": [
              "[0.9736332273440815, 0.7889581322669983]"
            ]
          },
          "metadata": {
            "tags": []
          },
          "execution_count": 36
        }
      ]
    },
    {
      "cell_type": "code",
      "metadata": {
        "id": "9dCq6R6RckQY",
        "colab_type": "code",
        "colab": {}
      },
      "source": [
        "predictions = model.predict(x_test)"
      ],
      "execution_count": 0,
      "outputs": []
    },
    {
      "cell_type": "code",
      "metadata": {
        "id": "4KqU5WuscobK",
        "colab_type": "code",
        "colab": {
          "base_uri": "https://localhost:8080/",
          "height": 35
        },
        "outputId": "1838c63c-c122-41d3-84c3-91ec2ee3e38f"
      },
      "source": [
        "predictions[0].shape"
      ],
      "execution_count": 39,
      "outputs": [
        {
          "output_type": "execute_result",
          "data": {
            "text/plain": [
              "(46,)"
            ]
          },
          "metadata": {
            "tags": []
          },
          "execution_count": 39
        }
      ]
    },
    {
      "cell_type": "code",
      "metadata": {
        "id": "aEHiyH4PcvNa",
        "colab_type": "code",
        "colab": {
          "base_uri": "https://localhost:8080/",
          "height": 35
        },
        "outputId": "b951a1b6-6465-41ff-e519-3b364280f5d0"
      },
      "source": [
        "np.sum(predictions[0])"
      ],
      "execution_count": 40,
      "outputs": [
        {
          "output_type": "execute_result",
          "data": {
            "text/plain": [
              "1.0000001"
            ]
          },
          "metadata": {
            "tags": []
          },
          "execution_count": 40
        }
      ]
    },
    {
      "cell_type": "code",
      "metadata": {
        "id": "BYkQjEzUc1K6",
        "colab_type": "code",
        "colab": {
          "base_uri": "https://localhost:8080/",
          "height": 35
        },
        "outputId": "cc8df99a-7636-4015-a259-6fa5b09ad3ed"
      },
      "source": [
        "np.argmax(predictions[0])"
      ],
      "execution_count": 41,
      "outputs": [
        {
          "output_type": "execute_result",
          "data": {
            "text/plain": [
              "3"
            ]
          },
          "metadata": {
            "tags": []
          },
          "execution_count": 41
        }
      ]
    },
    {
      "cell_type": "code",
      "metadata": {
        "id": "F5oCMtsUdQC3",
        "colab_type": "code",
        "colab": {
          "base_uri": "https://localhost:8080/",
          "height": 784
        },
        "outputId": "e8ec369f-98c5-4e0d-f170-932cbb2c45ff"
      },
      "source": [
        "model = models.Sequential()\n",
        "model.add(layers.Dense(64, activation='relu', input_shape=(10000,)))\n",
        "model.add(layers.Dense(64, activation='relu'))\n",
        "model.add(layers.Dense(46, activation='softmax'))\n",
        "model.compile(optimizer='rmsprop',\n",
        "loss='categorical_crossentropy',\n",
        "metrics=['accuracy'])\n",
        "model.fit(partial_x_train,\n",
        "partial_y_train,\n",
        "epochs=20,\n",
        "batch_size=128,\n",
        "validation_data=(x_val, y_val))"
      ],
      "execution_count": 46,
      "outputs": [
        {
          "output_type": "stream",
          "text": [
            "Train on 7982 samples, validate on 1000 samples\n",
            "Epoch 1/20\n",
            "7982/7982 [==============================] - 1s 155us/step - loss: 1.8570 - accuracy: 0.6049 - val_loss: 1.2688 - val_accuracy: 0.7050\n",
            "Epoch 2/20\n",
            "7982/7982 [==============================] - 1s 148us/step - loss: 1.0380 - accuracy: 0.7626 - val_loss: 1.0507 - val_accuracy: 0.7640\n",
            "Epoch 3/20\n",
            "7982/7982 [==============================] - 1s 142us/step - loss: 0.7173 - accuracy: 0.8345 - val_loss: 1.0278 - val_accuracy: 0.7720\n",
            "Epoch 4/20\n",
            "7982/7982 [==============================] - 1s 139us/step - loss: 0.4951 - accuracy: 0.8921 - val_loss: 0.9926 - val_accuracy: 0.7790\n",
            "Epoch 5/20\n",
            "7982/7982 [==============================] - 1s 144us/step - loss: 0.3496 - accuracy: 0.9230 - val_loss: 0.9471 - val_accuracy: 0.8010\n",
            "Epoch 6/20\n",
            "7982/7982 [==============================] - 1s 141us/step - loss: 0.2610 - accuracy: 0.9400 - val_loss: 0.9869 - val_accuracy: 0.8080\n",
            "Epoch 7/20\n",
            "7982/7982 [==============================] - 1s 139us/step - loss: 0.2177 - accuracy: 0.9476 - val_loss: 1.0598 - val_accuracy: 0.8020\n",
            "Epoch 8/20\n",
            "7982/7982 [==============================] - 1s 136us/step - loss: 0.1856 - accuracy: 0.9501 - val_loss: 1.0591 - val_accuracy: 0.7990\n",
            "Epoch 9/20\n",
            "7982/7982 [==============================] - 1s 144us/step - loss: 0.1654 - accuracy: 0.9539 - val_loss: 1.1365 - val_accuracy: 0.8050\n",
            "Epoch 10/20\n",
            "7982/7982 [==============================] - 1s 140us/step - loss: 0.1533 - accuracy: 0.9546 - val_loss: 1.1094 - val_accuracy: 0.8080\n",
            "Epoch 11/20\n",
            "7982/7982 [==============================] - 1s 139us/step - loss: 0.1425 - accuracy: 0.9543 - val_loss: 1.1493 - val_accuracy: 0.7970\n",
            "Epoch 12/20\n",
            "7982/7982 [==============================] - 1s 146us/step - loss: 0.1319 - accuracy: 0.9570 - val_loss: 1.2117 - val_accuracy: 0.7830\n",
            "Epoch 13/20\n",
            "7982/7982 [==============================] - 1s 143us/step - loss: 0.1284 - accuracy: 0.9560 - val_loss: 1.2261 - val_accuracy: 0.7940\n",
            "Epoch 14/20\n",
            "7982/7982 [==============================] - 1s 144us/step - loss: 0.1209 - accuracy: 0.9551 - val_loss: 1.2395 - val_accuracy: 0.7810\n",
            "Epoch 15/20\n",
            "7982/7982 [==============================] - 1s 141us/step - loss: 0.1129 - accuracy: 0.9569 - val_loss: 1.2883 - val_accuracy: 0.7990\n",
            "Epoch 16/20\n",
            "7982/7982 [==============================] - 1s 144us/step - loss: 0.1085 - accuracy: 0.9570 - val_loss: 1.4667 - val_accuracy: 0.7870\n",
            "Epoch 17/20\n",
            "7982/7982 [==============================] - 1s 140us/step - loss: 0.1063 - accuracy: 0.9590 - val_loss: 1.4701 - val_accuracy: 0.7890\n",
            "Epoch 18/20\n",
            "7982/7982 [==============================] - 1s 141us/step - loss: 0.1028 - accuracy: 0.9578 - val_loss: 1.3440 - val_accuracy: 0.7960\n",
            "Epoch 19/20\n",
            "7982/7982 [==============================] - 1s 142us/step - loss: 0.0990 - accuracy: 0.9567 - val_loss: 1.4234 - val_accuracy: 0.7930\n",
            "Epoch 20/20\n",
            "7982/7982 [==============================] - 1s 141us/step - loss: 0.0979 - accuracy: 0.9585 - val_loss: 1.5351 - val_accuracy: 0.7910\n"
          ],
          "name": "stdout"
        },
        {
          "output_type": "execute_result",
          "data": {
            "text/plain": [
              "<keras.callbacks.callbacks.History at 0x7f25795aadd8>"
            ]
          },
          "metadata": {
            "tags": []
          },
          "execution_count": 46
        }
      ]
    }
  ]
}